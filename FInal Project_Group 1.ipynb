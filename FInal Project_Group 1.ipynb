{
 "cells": [
  {
   "cell_type": "code",
   "execution_count": 48,
   "id": "eac6d2f4",
   "metadata": {},
   "outputs": [],
   "source": [
    "import pandas as pd\n",
    "import numpy as np\n",
    "import datetime as dt\n",
    "\n",
    "# Read monthly stock file\n",
    "msf = pd.read_csv('msf_6123.csv')\n",
    "\n",
    "# Format date variable\n",
    "msf['date'] = pd.to_datetime(msf['date'], format='%Y%m%d')\n",
    "msf['year'] = msf['date'].dt.year\n",
    "msf['quarter'] = msf['date'].dt.quarter\n",
    "msf['month'] = msf['date'].dt.month\n"
   ]
  },
  {
   "cell_type": "code",
   "execution_count": 49,
   "id": "7aa844ee",
   "metadata": {},
   "outputs": [
    {
     "name": "stdout",
     "output_type": "stream",
     "text": [
      "   permno       date ticker       ret   prc        MC    Weight\n",
      "0   10000 1986-01-31  OMFGA       NaN  4.38  16.11840  0.000008\n",
      "1   10000 1986-02-28  OMFGA -0.257143  3.25  11.96000  0.000005\n",
      "2   10000 1986-03-31  OMFGA  0.365385  4.44  16.33920  0.000007\n",
      "3   10000 1986-04-30  OMFGA -0.098592  4.00  15.17200  0.000006\n",
      "4   10000 1986-05-30  OMFGA -0.222656  3.11  11.79623  0.000005\n"
     ]
    }
   ],
   "source": [
    "import pandas as pd\n",
    "\n",
    "# Assuming 'msf' is your DataFrame\n",
    "msf['MC'] = msf['prc'] * msf['shrout']  # Compute market cap if not already done\n",
    "\n",
    "# Calculate total market cap at each period\n",
    "total_market_cap = msf.groupby(['date'])['MC'].transform('sum')  # Using 'date' to ensure time-specific total\n",
    "\n",
    "# Calculate weights for each stock at each time point\n",
    "msf['Weight'] = msf['MC'] / total_market_cap\n",
    "\n",
    "# Display the first few rows to verify\n",
    "print(msf[['permno', 'date','ticker','ret','prc', 'MC', 'Weight']].head())"
   ]
  },
  {
   "cell_type": "code",
   "execution_count": 50,
   "id": "52c76279",
   "metadata": {},
   "outputs": [
    {
     "name": "stdout",
     "output_type": "stream",
     "text": [
      "        permno       date     prc          MC           DTV      beta  \\\n",
      "0        10001 1993-12-31   18.38    0.020053      0.009723 -0.105077   \n",
      "1        10002 1993-12-31   12.88    0.038627      0.002277  0.255967   \n",
      "2        10003 1993-12-31    2.56    0.012872      0.022666  0.416429   \n",
      "3        10009 1993-12-31   17.50    0.020282      0.012167  0.163183   \n",
      "4        10010 1993-12-31    5.63    0.052601      0.113317  2.718468   \n",
      "...        ...        ...     ...         ...           ...       ...   \n",
      "581645   93397 2023-12-29   20.63    0.371216      1.088968  0.607684   \n",
      "581646   93423 2023-12-29   25.08    2.095108     42.854612  2.219339   \n",
      "581647   93426 2023-12-29   34.07    0.426216      1.664776  1.282553   \n",
      "581648   93434 2023-12-29    0.70    0.030127      0.038808  1.186958   \n",
      "581649   93436 2023-12-29  248.48  789.898290  29111.794688  2.339308   \n",
      "\n",
      "              BM       R11        IA       ROE    datadate  year  quarter  \n",
      "0       0.573449  0.253691  0.255446 -0.027836  19930930.0  1993        4  \n",
      "1            NaN  0.435854       NaN       NaN         NaN  1993        4  \n",
      "2            NaN -0.290323       NaN       NaN         NaN  1993        4  \n",
      "3            NaN  0.560941       NaN       NaN         NaN  1993        4  \n",
      "4       0.352016 -0.515768 -0.028075 -0.588432  19931031.0  1993        4  \n",
      "...          ...       ...       ...       ...         ...   ...      ...  \n",
      "581645       NaN  0.263106 -0.205399 -0.016737  20231031.0  2023        4  \n",
      "581646       NaN  0.070968 -0.000074       NaN         NaN  2023        4  \n",
      "581647       NaN -0.211126  0.062392  0.019284  20230930.0  2023        4  \n",
      "581648       NaN -0.559060  0.136051 -0.086538  20230930.0  2023        4  \n",
      "581649       NaN  0.949018  0.322245  0.036241  20230930.0  2023        4  \n",
      "\n",
      "[581650 rows x 13 columns]\n"
     ]
    }
   ],
   "source": [
    "# Read predictive signals updated at calendar quarter-end, as well as variables for liquidity screen\n",
    "signals = pd.read_csv('signals_quarterly.csv')\n",
    "\n",
    "# Format date variable\n",
    "signals['date'] = pd.to_datetime(signals['date'], format='%Y%m%d')\n",
    "signals['year'] = signals['date'].dt.year\n",
    "signals['quarter'] = signals['date'].dt.quarter\n",
    "\n",
    "# Variables\n",
    "# date ~ last trading day in a calendar quarter (consistent with date in msf)\n",
    "# prc ~ share price (at quarter-end)\n",
    "# DTV ~ average daily trading volume ($Mil) druing the past 6 months\n",
    "# MC ~ market capitalization (at quarter-end)\n",
    "# BM ~ book-to-market (updated using the latest quarterly accounting statements and ME)\n",
    "# R11 ~ momentum (past 12-to-2-month cumulative return)\n",
    "# IA ~ investment-to-asssets (4-quarter asset growth using the latest quarterly accounting statements)\n",
    "# ROE ~ return on equity (based on the most recent announced quarterly earnings report)\n",
    "# beta ~ market beta (based on returns during the past 60 months)\n",
    "print(signals)\n",
    "\n",
    "# For the signals, be clear about whether it \"positively\" or \"negatively\" predicts future returns\n",
    "# positively: BM, R11, ROE\n",
    "# negatively: MC, IA\n",
    "# ambiguous but helps control risk: beta"
   ]
  },
  {
   "cell_type": "code",
   "execution_count": 52,
   "id": "1ad4a4a8",
   "metadata": {},
   "outputs": [
    {
     "data": {
      "text/html": [
       "<div>\n",
       "<style scoped>\n",
       "    .dataframe tbody tr th:only-of-type {\n",
       "        vertical-align: middle;\n",
       "    }\n",
       "\n",
       "    .dataframe tbody tr th {\n",
       "        vertical-align: top;\n",
       "    }\n",
       "\n",
       "    .dataframe thead th {\n",
       "        text-align: right;\n",
       "    }\n",
       "</style>\n",
       "<table border=\"1\" class=\"dataframe\">\n",
       "  <thead>\n",
       "    <tr style=\"text-align: right;\">\n",
       "      <th></th>\n",
       "      <th>permno</th>\n",
       "      <th>date</th>\n",
       "      <th>year</th>\n",
       "      <th>quarter</th>\n",
       "      <th>ROE</th>\n",
       "      <th>DTV</th>\n",
       "      <th>R11</th>\n",
       "      <th>MC</th>\n",
       "      <th>beta</th>\n",
       "      <th>BM</th>\n",
       "    </tr>\n",
       "  </thead>\n",
       "  <tbody>\n",
       "    <tr>\n",
       "      <th>0</th>\n",
       "      <td>10001</td>\n",
       "      <td>1993-12-31</td>\n",
       "      <td>1993</td>\n",
       "      <td>4</td>\n",
       "      <td>-0.027836</td>\n",
       "      <td>0.009723</td>\n",
       "      <td>0.253691</td>\n",
       "      <td>0.020053</td>\n",
       "      <td>-0.105077</td>\n",
       "      <td>0.573449</td>\n",
       "    </tr>\n",
       "    <tr>\n",
       "      <th>4</th>\n",
       "      <td>10010</td>\n",
       "      <td>1993-12-31</td>\n",
       "      <td>1993</td>\n",
       "      <td>4</td>\n",
       "      <td>-0.588432</td>\n",
       "      <td>0.113317</td>\n",
       "      <td>-0.515768</td>\n",
       "      <td>0.052601</td>\n",
       "      <td>2.718468</td>\n",
       "      <td>0.352016</td>\n",
       "    </tr>\n",
       "    <tr>\n",
       "      <th>5</th>\n",
       "      <td>10011</td>\n",
       "      <td>1993-12-31</td>\n",
       "      <td>1993</td>\n",
       "      <td>4</td>\n",
       "      <td>0.108339</td>\n",
       "      <td>0.040092</td>\n",
       "      <td>0.648649</td>\n",
       "      <td>0.037810</td>\n",
       "      <td>0.577593</td>\n",
       "      <td>0.175842</td>\n",
       "    </tr>\n",
       "    <tr>\n",
       "      <th>6</th>\n",
       "      <td>10012</td>\n",
       "      <td>1993-12-31</td>\n",
       "      <td>1993</td>\n",
       "      <td>4</td>\n",
       "      <td>0.023422</td>\n",
       "      <td>0.170167</td>\n",
       "      <td>1.363636</td>\n",
       "      <td>0.037279</td>\n",
       "      <td>2.222242</td>\n",
       "      <td>0.172772</td>\n",
       "    </tr>\n",
       "    <tr>\n",
       "      <th>7</th>\n",
       "      <td>10016</td>\n",
       "      <td>1993-12-31</td>\n",
       "      <td>1993</td>\n",
       "      <td>4</td>\n",
       "      <td>-0.058794</td>\n",
       "      <td>0.363145</td>\n",
       "      <td>-0.203845</td>\n",
       "      <td>0.187426</td>\n",
       "      <td>0.494906</td>\n",
       "      <td>1.768384</td>\n",
       "    </tr>\n",
       "  </tbody>\n",
       "</table>\n",
       "</div>"
      ],
      "text/plain": [
       "   permno       date  year  quarter       ROE       DTV       R11        MC  \\\n",
       "0   10001 1993-12-31  1993        4 -0.027836  0.009723  0.253691  0.020053   \n",
       "4   10010 1993-12-31  1993        4 -0.588432  0.113317 -0.515768  0.052601   \n",
       "5   10011 1993-12-31  1993        4  0.108339  0.040092  0.648649  0.037810   \n",
       "6   10012 1993-12-31  1993        4  0.023422  0.170167  1.363636  0.037279   \n",
       "7   10016 1993-12-31  1993        4 -0.058794  0.363145 -0.203845  0.187426   \n",
       "\n",
       "       beta        BM  \n",
       "0 -0.105077  0.573449  \n",
       "4  2.718468  0.352016  \n",
       "5  0.577593  0.175842  \n",
       "6  2.222242  0.172772  \n",
       "7  0.494906  1.768384  "
      ]
     },
     "execution_count": 52,
     "metadata": {},
     "output_type": "execute_result"
    }
   ],
   "source": [
    "signals_used = signals[(signals.R11.notna()) & (signals.ROE.notna()) & (signals.BM.notna()) & (signals.beta.notna())][['permno','date','year','quarter','ROE','DTV','R11','MC','beta','BM']]\n",
    "signals_used.head()"
   ]
  },
  {
   "cell_type": "code",
   "execution_count": 6,
   "id": "cdd11e5b",
   "metadata": {},
   "outputs": [
    {
     "name": "stdout",
     "output_type": "stream",
     "text": [
      "   permno       date  year  quarter       ROE       DTV       R11        MC  \\\n",
      "0   10001 1993-12-31  1993        4 -0.027836  0.009723  0.253691  0.020053   \n",
      "4   10010 1993-12-31  1993        4 -0.588432  0.113317 -0.515768  0.052601   \n",
      "5   10011 1993-12-31  1993        4  0.108339  0.040092  0.648649  0.037810   \n",
      "6   10012 1993-12-31  1993        4  0.023422  0.170167  1.363636  0.037279   \n",
      "7   10016 1993-12-31  1993        4 -0.058794  0.363145 -0.203845  0.187426   \n",
      "\n",
      "       beta        BM  rank_MC  rank_DTV  \n",
      "0 -0.105077  0.573449     3135      3427  \n",
      "4  2.718468  0.352016     2501      2281  \n",
      "5  0.577593  0.175842     2721      2852  \n",
      "6  2.222242  0.172772     2730      2059  \n",
      "7  0.494906  1.768384     1584      1614  \n"
     ]
    }
   ],
   "source": [
    "# Identify the top-1000 stocks by MC\n",
    "# At each quarter-end, rank stocks by MC from largest to smallest\n",
    "signals_used['rank_MC'] = signals_used.groupby('date').MC.rank(ascending=False)\n",
    "signals_used['rank_MC'] = signals_used.rank_MC.astype(int)\n",
    "\n",
    "\n",
    "# Identify the top-1000 stocks by trading volume\n",
    "# At each quarter-end, rank stocks by DTV from highest to lowest\n",
    "signals_used['rank_ROE'] = signals_used.groupby('date').ROE.rank(ascending=False)\n",
    "signals_used['rank_ROE'] = signals_used.rank_ROE.astype(int)\n",
    "\n",
    "print(signals_used.head())"
   ]
  },
  {
   "cell_type": "code",
   "execution_count": 7,
   "id": "3cd983c5",
   "metadata": {},
   "outputs": [
    {
     "data": {
      "text/plain": [
       "count     120.000000\n",
       "mean     3887.458333\n",
       "std       796.249168\n",
       "min      2964.000000\n",
       "25%      3106.250000\n",
       "50%      3743.500000\n",
       "75%      4668.000000\n",
       "max      5282.000000\n",
       "Name: permno, dtype: float64"
      ]
     },
     "execution_count": 7,
     "metadata": {},
     "output_type": "execute_result"
    }
   ],
   "source": [
    "nstocks = signals_used.groupby('date').permno.count()\n",
    "nstocks.describe()"
   ]
  },
  {
   "cell_type": "code",
   "execution_count": 8,
   "id": "7e3a02f6",
   "metadata": {},
   "outputs": [
    {
     "name": "stdout",
     "output_type": "stream",
     "text": [
      "       permno       date  ryear  rquarter       ROE         DTV       R11  \\\n",
      "11900   12579 2023-09-29   2023         3 -0.024298    6.715936 -0.425439   \n",
      "11901   12788 2023-09-29   2023         3  0.017555   33.429957  0.408124   \n",
      "11902   13124 2023-09-29   2023         3  0.240590   33.511322 -0.040732   \n",
      "11903   13244 2023-09-29   2023         3  0.044075   75.510297  0.311156   \n",
      "11904   13337 2023-09-29   2023         3 -0.015743    1.461211  0.114878   \n",
      "...       ...        ...    ...       ...       ...         ...       ...   \n",
      "11995   91269 2023-09-29   2023         3 -0.022565    0.219862 -0.226087   \n",
      "11996   92213 2023-09-29   2023         3 -0.025351  281.293485  0.619116   \n",
      "11997   92345 2023-09-29   2023         3 -0.344093    0.641307 -0.850701   \n",
      "11998   92686 2023-09-29   2023         3 -1.187077    0.631826  0.080000   \n",
      "11999   93083 2023-09-29   2023         3 -0.059035    0.338601 -0.046053   \n",
      "\n",
      "             MC      beta        BM  rank_MC  rank_DTV  rank_beta  \n",
      "11900  0.285901  3.329059  2.075756     2134      1640         37  \n",
      "11901  3.763692  2.784970  0.353338      868       898         91  \n",
      "11902  1.182718  3.444395  1.036061     1447       897         34  \n",
      "11903  7.086923  3.576124  0.527173      585       569         27  \n",
      "11904  0.243755  2.933629  1.714402     2202      2251         66  \n",
      "...         ...       ...       ...      ...       ...        ...  \n",
      "11995  0.073363  3.171772  1.593687     2702      2841         45  \n",
      "11996  1.831488  4.493924  0.596316     1230       177         12  \n",
      "11997  0.001897  2.926695  3.119547     3312      2512         67  \n",
      "11998  0.088424  4.014474  0.070184     2643      2520         19  \n",
      "11999  0.058074  2.879675  0.487691     2771      2729         76  \n",
      "\n",
      "[100 rows x 13 columns]\n"
     ]
    }
   ],
   "source": [
    "# When you rank stocks, use a consistent convention: \"small ranking -> high return\" (ranking 1 is the best)\n",
    "# If a signal positively predicts returns, use rank(ascending=False) to favor high values of signal\n",
    "# If a signal negatively predicts returns, use rank(ascending=True) to favor low values of signal\n",
    "\n",
    "# At each quarter-end, rank stocks by beta from highest to lowest\n",
    "signals_used['rank_beta'] = signals_used.groupby('date').beta.rank(ascending=False)\n",
    "signals_used['rank_beta'] = signals_used.rank_beta.astype(int)\n",
    "\n",
    "# Select the top 100 stocks by beta\n",
    "# Rename year/quarter to \"rebalance/ranking\" year/quarter\n",
    "signal2 = signals_used[signals_used.rank_beta<=100].rename(columns={'year':'ryear','quarter':'rquarter'}).reset_index(drop=True)\n",
    "\n",
    "\n",
    "print(signal2[signal2.date=='2023-09-29'])"
   ]
  },
  {
   "cell_type": "code",
   "execution_count": 9,
   "id": "fd7ad5b7",
   "metadata": {},
   "outputs": [
    {
     "name": "stdout",
     "output_type": "stream",
     "text": [
      "         permno  year  quarter  month       ret      MC_beg   ryear  rquarter\n",
      "0         10001  1992        1      1 -0.051724    0.015587  1991.0       4.0\n",
      "1         10001  1992        1      2 -0.200000    0.014781  1991.0       4.0\n",
      "2         10001  1992        1      3  0.081818    0.011825  1991.0       4.0\n",
      "3         10001  1992        2      4  0.010638    0.012631  1992.0       1.0\n",
      "4         10001  1992        2      5  0.010526    0.012771  1992.0       1.0\n",
      "...         ...   ...      ...    ...       ...         ...     ...       ...\n",
      "1884785   93436  2023        3      8 -0.034962  848.821215  2023.0       2.0\n",
      "1884786   93436  2023        3      9 -0.030456  819.144372  2023.0       2.0\n",
      "1884787   93436  2023        4     10 -0.197346  795.449380  2023.0       3.0\n",
      "1884788   93436  2023        4     11  0.195379  638.454494  2023.0       3.0\n",
      "1884789   93436  2023        4     12  0.034988  763.195354  2023.0       3.0\n",
      "\n",
      "[1884790 rows x 8 columns]\n"
     ]
    }
   ],
   "source": [
    "ret = msf[['permno','year','quarter','month','ret','MC_beg']][msf.year>=1992].reset_index(drop=True)\n",
    "\n",
    "# Drop obs. with missing monthly returns or MC_beg\n",
    "ret = ret[ret.ret.notna() & ret.MC_beg.notna()].reset_index(drop=True)\n",
    "\n",
    "# Fund rebalancing/ranking year/quarter\n",
    "# Lag year-quarter in monthly return files by 1 quarter (becuase that's when we chose the 100 stocks)\n",
    "ret.loc[ret.quarter>1,'ryear'] = ret.year\n",
    "ret.loc[ret.quarter>1,'rquarter'] = ret.quarter-1\n",
    "\n",
    "ret.loc[ret.quarter==1,'ryear'] = ret.year-1\n",
    "ret.loc[ret.quarter==1,'rquarter'] = 4\n",
    "\n",
    "print(ret)"
   ]
  },
  {
   "cell_type": "code",
   "execution_count": 10,
   "id": "92873a82",
   "metadata": {},
   "outputs": [
    {
     "name": "stdout",
     "output_type": "stream",
     "text": [
      "       permno  year  quarter  month       ret    MC_beg   ryear  rquarter\n",
      "0       10010  1994        1      1  0.111111  0.052601  1993.0       4.0\n",
      "1       10010  1994        1      2  0.120000  0.058425  1993.0       4.0\n",
      "2       10010  1994        1      3  0.178571  0.065436  1993.0       4.0\n",
      "3       10010  1994        3      7 -0.280702  0.073746  1994.0       2.0\n",
      "4       10010  1994        3      8  0.073171  0.052244  1994.0       2.0\n",
      "...       ...   ...      ...    ...       ...       ...     ...       ...\n",
      "35295   93433  2013        3      8  0.245675  0.020281  2013.0       2.0\n",
      "35296   93433  2013        3      9 -0.014815  0.025234  2013.0       2.0\n",
      "35297   93433  2013        4     10 -0.107143  0.024770  2013.0       3.0\n",
      "35298   93433  2013        4     11 -0.124211  0.022116  2013.0       3.0\n",
      "35299   93433  2013        4     12 -0.175481  0.019369  2013.0       3.0\n",
      "\n",
      "[35300 rows x 8 columns]\n"
     ]
    }
   ],
   "source": [
    "# Merge quarter-end sample with monthly returns during the coming quarter\n",
    "ret2 = pd.merge(ret, signal2[['permno','ryear','rquarter']], on=['permno','ryear','rquarter'])\n",
    "\n",
    "print(ret2)"
   ]
  },
  {
   "cell_type": "code",
   "execution_count": 11,
   "id": "0252f5ea",
   "metadata": {},
   "outputs": [
    {
     "name": "stdout",
     "output_type": "stream",
     "text": [
      "     year  month  nstocks    ret_vw\n",
      "0    1994      1       99  0.027702\n",
      "1    1994      2       99 -0.023840\n",
      "2    1994      3       98 -0.104162\n",
      "3    1994      4       99 -0.021474\n",
      "4    1994      5       99 -0.051943\n",
      "..    ...    ...      ...       ...\n",
      "355  2023      8       97 -0.112854\n",
      "356  2023      9       96 -0.049683\n",
      "357  2023     10      100 -0.063462\n",
      "358  2023     11       99  0.188479\n",
      "359  2023     12       98  0.113989\n",
      "\n",
      "[360 rows x 4 columns]\n"
     ]
    }
   ],
   "source": [
    "# Weighted Average Function\n",
    "def wt_avg(data, var_name, wt_name):\n",
    "    \n",
    "    d = data[var_name]\n",
    "    w = data[wt_name]\n",
    "    \n",
    "    wt_avg = (d * w).sum() / w.sum()\n",
    "    n = d.count()\n",
    "    \n",
    "    try:\n",
    "        return pd.Series([wt_avg, n])\n",
    "    except ZeroDivisionError:\n",
    "        return np.nan\n",
    "\n",
    "# Value-weigthed fund portfolio return\n",
    "ret_fund = ret2.groupby(['year','month'])\\\n",
    "               .apply(wt_avg, 'ret', 'MC_beg').reset_index()\\\n",
    "               .rename(columns={0:'ret_vw', 1:'nstocks'})\n",
    "\n",
    "ret_fund.nstocks = ret_fund.nstocks.astype(int)\n",
    "ret_fund = ret_fund[['year','month','nstocks','ret_vw']]\n",
    "\n",
    "print(ret_fund)"
   ]
  },
  {
   "cell_type": "code",
   "execution_count": 12,
   "id": "79005054",
   "metadata": {},
   "outputs": [
    {
     "data": {
      "text/plain": [
       "count    30.000000\n",
       "mean      0.161752\n",
       "std       0.590125\n",
       "min      -0.716547\n",
       "25%      -0.238477\n",
       "50%       0.068612\n",
       "75%       0.492717\n",
       "max       1.612215\n",
       "Name: ret_vw, dtype: float64"
      ]
     },
     "execution_count": 12,
     "metadata": {},
     "output_type": "execute_result"
    }
   ],
   "source": [
    "ret_fund['logret_vw'] = np.log(1+ret_fund.ret_vw)\n",
    "ret_fund_ann = ret_fund.groupby(['year'])['logret_vw'].sum().reset_index()\n",
    "ret_fund_ann['ret_vw'] = np.exp(ret_fund_ann.logret_vw)-1\n",
    "\n",
    "# Summary Stats\n",
    "ret_fund_ann.ret_vw.describe()"
   ]
  },
  {
   "cell_type": "code",
   "execution_count": 13,
   "id": "193e87d2",
   "metadata": {},
   "outputs": [
    {
     "name": "stdout",
     "output_type": "stream",
     "text": [
      "        permno       date  ryear  rquarter       ROE           DTV       R11  \\\n",
      "0        10001 1993-12-31   1993         4 -0.027836      0.009723  0.253691   \n",
      "4        10010 1993-12-31   1993         4 -0.588432      0.113317 -0.515768   \n",
      "5        10011 1993-12-31   1993         4  0.108339      0.040092  0.648649   \n",
      "6        10012 1993-12-31   1993         4  0.023422      0.170167  1.363636   \n",
      "7        10016 1993-12-31   1993         4 -0.058794      0.363145 -0.203845   \n",
      "...        ...        ...    ...       ...       ...           ...       ...   \n",
      "577629   93374 2023-09-29   2023         3  0.029003     30.181229  0.376316   \n",
      "577630   93397 2023-09-29   2023         3 -0.005585      1.295014  0.194832   \n",
      "577632   93426 2023-09-29   2023         3  0.025830      1.811046  0.217303   \n",
      "577633   93434 2023-09-29   2023         3 -0.095297      0.040972  0.287808   \n",
      "577634   93436 2023-09-29   2023         3  0.056249  29204.271367 -0.027031   \n",
      "\n",
      "                MC      beta        BM  rank_MC  rank_DTV  rank_beta  \n",
      "0         0.020053 -0.105077  0.573449     3135      3427       3668  \n",
      "4         0.052601  2.718468  0.352016     2501      2281         93  \n",
      "5         0.037810  0.577593  0.175842     2721      2852       2850  \n",
      "6         0.037279  2.222242  0.172772     2730      2059        259  \n",
      "7         0.187426  0.494906  1.768384     1584      1614       3005  \n",
      "...            ...       ...       ...      ...       ...        ...  \n",
      "577629    5.823328  1.234766  0.820029      661       946       1465  \n",
      "577630    0.275438  0.590658  0.755973     2146      2289       2803  \n",
      "577632    0.422470  1.300084  0.754726     1948      2172       1316  \n",
      "577633    0.048136  1.166968  1.572612     2826      3214       1608  \n",
      "577634  795.449380  2.097140  0.060411        5         1        322  \n",
      "\n",
      "[466495 rows x 13 columns]\n"
     ]
    }
   ],
   "source": [
    "signals_used = signals_used.rename(columns={'year':'ryear','quarter':'rquarter'})\n",
    "print(signals_used)"
   ]
  },
  {
   "cell_type": "code",
   "execution_count": 14,
   "id": "1deb705d",
   "metadata": {},
   "outputs": [
    {
     "name": "stdout",
     "output_type": "stream",
     "text": [
      "         permno  year  quarter  month       ret      MC_beg   ryear  rquarter\n",
      "0         10001  1994        1      1 -0.047619    0.020053  1993.0       4.0\n",
      "1         10001  1994        1      2  0.000000    0.019093  1993.0       4.0\n",
      "2         10001  1994        1      3 -0.004286    0.019093  1993.0       4.0\n",
      "3         10001  1994        2      4 -0.144928    0.018820  1994.0       1.0\n",
      "4         10001  1994        2      5  0.067797    0.016092  1994.0       1.0\n",
      "...         ...   ...      ...    ...       ...         ...     ...       ...\n",
      "1380062   93436  2023        3      8 -0.034962  848.821215  2023.0       2.0\n",
      "1380063   93436  2023        3      9 -0.030456  819.144372  2023.0       2.0\n",
      "1380064   93436  2023        4     10 -0.197346  795.449380  2023.0       3.0\n",
      "1380065   93436  2023        4     11  0.195379  638.454494  2023.0       3.0\n",
      "1380066   93436  2023        4     12  0.034988  763.195354  2023.0       3.0\n",
      "\n",
      "[1380067 rows x 8 columns]\n"
     ]
    }
   ],
   "source": [
    "ret1 = pd.merge(ret, signals_used[['permno','ryear','rquarter']], on=['permno','ryear','rquarter'])\n",
    "\n",
    "print(ret1)"
   ]
  },
  {
   "cell_type": "code",
   "execution_count": 15,
   "id": "a160a42a",
   "metadata": {},
   "outputs": [
    {
     "name": "stdout",
     "output_type": "stream",
     "text": [
      "     year  month  nstocks    ret_vw\n",
      "0    1994      1     3860  0.030867\n",
      "1    1994      2     3841 -0.023313\n",
      "2    1994      3     3835 -0.042710\n",
      "3    1994      4     3998  0.010544\n",
      "4    1994      5     3989  0.009137\n",
      "..    ...    ...      ...       ...\n",
      "355  2023      8     3234 -0.018331\n",
      "356  2023      9     3219 -0.047856\n",
      "357  2023     10     3301 -0.026473\n",
      "358  2023     11     3280  0.092757\n",
      "359  2023     12     3258  0.052034\n",
      "\n",
      "[360 rows x 4 columns]\n"
     ]
    }
   ],
   "source": [
    "# Value-weigthed index portfolio return\n",
    "ret_indx = ret1.groupby(['year','month'])\\\n",
    "               .apply(wt_avg, 'ret', 'MC_beg').reset_index()\\\n",
    "               .rename(columns={0:'ret_vw', 1:'nstocks'})\n",
    "\n",
    "ret_indx.nstocks = ret_indx.nstocks.astype(int)\n",
    "ret_indx = ret_indx[['year','month','nstocks','ret_vw']]\n",
    "\n",
    "print(ret_indx)"
   ]
  },
  {
   "cell_type": "code",
   "execution_count": 16,
   "id": "c15b3d0c",
   "metadata": {},
   "outputs": [
    {
     "data": {
      "text/plain": [
       "count    30.000000\n",
       "mean      0.120421\n",
       "std       0.181855\n",
       "min      -0.365416\n",
       "25%       0.004228\n",
       "50%       0.156710\n",
       "75%       0.251448\n",
       "max       0.366569\n",
       "Name: ret_vw, dtype: float64"
      ]
     },
     "execution_count": 16,
     "metadata": {},
     "output_type": "execute_result"
    }
   ],
   "source": [
    "# Compounded returns within each calendar year\n",
    "# Calculate the compounded return by summing up log returns and taking exp\n",
    "ret_indx['logret_vw'] = np.log(1+ret_indx.ret_vw)\n",
    "ret_indx_ann = ret_indx.groupby(['year'])['logret_vw'].sum().reset_index()\n",
    "ret_indx_ann['ret_vw'] = np.exp(ret_indx_ann.logret_vw)-1\n",
    "# Summary Stats\n",
    "ret_indx_ann.ret_vw.describe()"
   ]
  },
  {
   "cell_type": "code",
   "execution_count": 31,
   "id": "b2579488",
   "metadata": {},
   "outputs": [
    {
     "data": {
      "image/png": "[encoded data removed]",
      "text/plain": [
       "<Figure size 1000x500 with 1 Axes>"
      ]
     },
     "metadata": {},
     "output_type": "display_data"
    }
   ],
   "source": [
    "# Plot a bar chart for the time series\n",
    "ret_fund_ann.plot(kind='bar', figsize=(10,5), x='year', y='ret_vw', ylim=(-0.7, 2.0), legend= False,\\\n",
    "                  title='Annual Returns of the Target-100 Factor Fund (1992-2023) \\n');"
   ]
  },
  {
   "cell_type": "code",
   "execution_count": 32,
   "id": "2e591a8d",
   "metadata": {},
   "outputs": [
    {
     "name": "stdout",
     "output_type": "stream",
     "text": [
      "    year     logrf        rf\n",
      "0   1961  0.021361  0.021591\n",
      "1   1962  0.026877  0.027241\n",
      "2   1963  0.031027  0.031514\n",
      "3   1964  0.034578  0.035183\n",
      "4   1965  0.038855  0.039620\n",
      "..   ...       ...       ...\n",
      "58  2019  0.021243  0.021470\n",
      "59  2020  0.004261  0.004270\n",
      "60  2021  0.000402  0.000402\n",
      "61  2022  0.014230  0.014332\n",
      "62  2023  0.048475  0.049669\n",
      "\n",
      "[63 rows x 3 columns]\n"
     ]
    }
   ],
   "source": [
    "msi = pd.read_csv('msi_6123.csv')\n",
    "\n",
    "# Calculate the compounded return by summing up log returns and taking exp\n",
    "msi['logrf'] = np.log(1+msi.rf)\n",
    "rf_ann = msi.groupby(['year'])['logrf'].sum().reset_index()\n",
    "rf_ann['rf'] = np.exp(rf_ann.logrf)-1\n",
    "print(rf_ann)"
   ]
  },
  {
   "cell_type": "code",
   "execution_count": 35,
   "id": "4702af7f",
   "metadata": {},
   "outputs": [
    {
     "name": "stdout",
     "output_type": "stream",
     "text": [
      "Average annual return of Factor Fund (%): 16.18\n",
      "Annual volatility of Factor Fund (%) (%): 59.01\n",
      "Annual Sharpe Ratio of Factor Fund: 0.23\n"
     ]
    }
   ],
   "source": [
    "# Excess annual returns for the factor fund and the benchmark index\n",
    "ret_fund_ann = pd.merge(ret_fund_ann, rf_ann, on=['year'])\n",
    "ret_fund_ann['exret_vw'] = ret_fund_ann.ret_vw-ret_fund_ann.rf\n",
    "\n",
    "# Mean, Volatility, and the Sharpe ratio\n",
    "print(\"Average annual return of Factor Fund (%):\", \"{:.2f}\".format(ret_fund_ann.ret_vw.mean()*100))\n",
    "print(\"Annual volatility of Factor Fund (%) (%):\", \"{:.2f}\".format(ret_fund_ann.ret_vw.std()*100))\n",
    "print(\"Annual Sharpe Ratio of Factor Fund:\", \"{:.2f}\".format(ret_fund_ann.exret_vw.mean()/ret_fund_ann.exret_vw.std()))"
   ]
  },
  {
   "cell_type": "code",
   "execution_count": 36,
   "id": "b6404eeb",
   "metadata": {},
   "outputs": [
    {
     "name": "stdout",
     "output_type": "stream",
     "text": [
      "Average annual return of Benchmark Index (%): 12.04\n",
      "Annual volatility of Benchmark Index (%) (%): 18.19\n",
      "Annual Sharpe Ratio of Benchmark Index: 0.54\n"
     ]
    }
   ],
   "source": [
    "ret_indx_ann = pd.merge(ret_indx_ann, rf_ann, on=['year'])\n",
    "ret_indx_ann['exret_vw'] = ret_indx_ann.ret_vw-ret_indx_ann.rf\n",
    "\n",
    "# Mean, Volatility, and the Sharpe ratio\n",
    "print(\"Average annual return of Benchmark Index (%):\", \"{:.2f}\".format(ret_indx_ann.ret_vw.mean()*100))\n",
    "print(\"Annual volatility of Benchmark Index (%) (%):\", \"{:.2f}\".format(ret_indx_ann.ret_vw.std()*100))\n",
    "print(\"Annual Sharpe Ratio of Benchmark Index:\", \"{:.2f}\".format(ret_indx_ann.exret_vw.mean()/ret_indx_ann.exret_vw.std()))"
   ]
  },
  {
   "cell_type": "code",
   "execution_count": 37,
   "id": "f13b4094",
   "metadata": {},
   "outputs": [
    {
     "name": "stdout",
     "output_type": "stream",
     "text": [
      "1-year compounded annual return of Factor Fund (%): 6.41\n",
      "1-year compounded annual return of Benchmark Index (%): -19.28\n"
     ]
    }
   ],
   "source": [
    "# Past 1-year compounded returns\n",
    "print(\"1-year compounded annual return of Factor Fund (%):\",\\\n",
    "      \"{:.2f}\".format(((np.exp(ret_fund_ann[ret_fund_ann.year==2022].logret_vw.sum())**(1))-1)*100))\n",
    "print(\"1-year compounded annual return of Benchmark Index (%):\",\\\n",
    "      \"{:.2f}\".format(((np.exp(ret_indx_ann[ret_indx_ann.year==2022].logret_vw.sum())**(1))-1)*100))"
   ]
  },
  {
   "cell_type": "code",
   "execution_count": 38,
   "id": "d2fcb727",
   "metadata": {},
   "outputs": [
    {
     "name": "stdout",
     "output_type": "stream",
     "text": [
      "3-year compounded annual return of Factor Fund (%): 80.97\n",
      "3-year compounded annual return of Benchmark Index (%): 16.71\n"
     ]
    }
   ],
   "source": [
    "# Past 3-year compounded returns\n",
    "print(\"3-year compounded annual return of Factor Fund (%):\",\\\n",
    "      \"{:.2f}\".format(((np.exp(ret_fund_ann[ret_fund_ann.year>=2020].logret_vw.sum())**(1/3))-1)*100))\n",
    "print(\"3-year compounded annual return of Benchmark Index (%):\",\\\n",
    "      \"{:.2f}\".format(((np.exp(ret_indx_ann[ret_indx_ann.year>=2020].logret_vw.sum())**(1/3))-1)*100))"
   ]
  },
  {
   "cell_type": "code",
   "execution_count": 39,
   "id": "9cbcf8ce",
   "metadata": {},
   "outputs": [
    {
     "name": "stdout",
     "output_type": "stream",
     "text": [
      "5-year compounded annual return of Factor Fund (%): 45.34\n",
      "5-year compounded annual return of Benchmark Index (%): 14.73\n"
     ]
    }
   ],
   "source": [
    "# Past 5-year compounded returns\n",
    "print(\"5-year compounded annual return of Factor Fund (%):\",\\\n",
    "      \"{:.2f}\".format(((np.exp(ret_fund_ann[ret_fund_ann.year>=2018].logret_vw.sum())**(1/5))-1)*100))\n",
    "print(\"5-year compounded annual return of Benchmark Index (%):\",\\\n",
    "      \"{:.2f}\".format(((np.exp(ret_indx_ann[ret_indx_ann.year>=2018].logret_vw.sum())**(1/5))-1)*100))"
   ]
  },
  {
   "cell_type": "code",
   "execution_count": 40,
   "id": "7b61b142",
   "metadata": {},
   "outputs": [
    {
     "name": "stdout",
     "output_type": "stream",
     "text": [
      "10-year compounded annual return of Factor Fund (%): 22.40\n",
      "10-year compounded annual return of Benchmark Index (%): 15.34\n"
     ]
    }
   ],
   "source": [
    "# Past 10-year compounded returns\n",
    "print(\"10-year compounded annual return of Factor Fund (%):\",\\\n",
    "      \"{:.2f}\".format(((np.exp(ret_fund_ann[ret_fund_ann.year>=2013].logret_vw.sum())**(1/10))-1)*100))\n",
    "print(\"10-year compounded annual return of Benchmark Index (%):\",\\\n",
    "      \"{:.2f}\".format(((np.exp(ret_indx_ann[ret_indx_ann.year>=2013].logret_vw.sum())**(1/10))-1)*100))"
   ]
  },
  {
   "cell_type": "code",
   "execution_count": 41,
   "id": "e4e2156a",
   "metadata": {},
   "outputs": [
    {
     "name": "stdout",
     "output_type": "stream",
     "text": [
      "30-year compounded annual return of Factor Fund (%): 1.02\n",
      "30-year compounded annual return of Benchmark Index (%): 10.42\n"
     ]
    }
   ],
   "source": [
    "# Past 30-year compounded returns\n",
    "print(\"30-year compounded annual return of Factor Fund (%):\",\\\n",
    "      \"{:.2f}\".format(((np.exp(ret_fund_ann[ret_fund_ann.year>=1993].logret_vw.sum())**(1/30))-1)*100))\n",
    "print(\"30-year compounded annual return of Benchmark Index (%):\",\\\n",
    "      \"{:.2f}\".format(((np.exp(ret_indx_ann[ret_indx_ann.year>=1993].logret_vw.sum())**(1/30))-1)*100))"
   ]
  },
  {
   "cell_type": "code",
   "execution_count": 42,
   "id": "738cd3e1",
   "metadata": {},
   "outputs": [
    {
     "data": {
      "text/html": [
       "<div>\n",
       "<style scoped>\n",
       "    .dataframe tbody tr th:only-of-type {\n",
       "        vertical-align: middle;\n",
       "    }\n",
       "\n",
       "    .dataframe tbody tr th {\n",
       "        vertical-align: top;\n",
       "    }\n",
       "\n",
       "    .dataframe thead th {\n",
       "        text-align: right;\n",
       "    }\n",
       "</style>\n",
       "<table border=\"1\" class=\"dataframe\">\n",
       "  <thead>\n",
       "    <tr style=\"text-align: right;\">\n",
       "      <th></th>\n",
       "      <th>year</th>\n",
       "      <th>month</th>\n",
       "      <th>nstocks</th>\n",
       "      <th>ret_vw</th>\n",
       "      <th>logret_vw</th>\n",
       "      <th>rf</th>\n",
       "      <th>MKT</th>\n",
       "      <th>SMB</th>\n",
       "      <th>HML</th>\n",
       "    </tr>\n",
       "  </thead>\n",
       "  <tbody>\n",
       "    <tr>\n",
       "      <th>0</th>\n",
       "      <td>1994</td>\n",
       "      <td>1</td>\n",
       "      <td>99</td>\n",
       "      <td>0.027702</td>\n",
       "      <td>0.027325</td>\n",
       "      <td>0.002503</td>\n",
       "      <td>0.028956</td>\n",
       "      <td>0.003051</td>\n",
       "      <td>0.008388</td>\n",
       "    </tr>\n",
       "    <tr>\n",
       "      <th>1</th>\n",
       "      <td>1994</td>\n",
       "      <td>2</td>\n",
       "      <td>99</td>\n",
       "      <td>-0.023840</td>\n",
       "      <td>-0.024129</td>\n",
       "      <td>0.002120</td>\n",
       "      <td>-0.026327</td>\n",
       "      <td>0.027511</td>\n",
       "      <td>-0.015719</td>\n",
       "    </tr>\n",
       "    <tr>\n",
       "      <th>2</th>\n",
       "      <td>1994</td>\n",
       "      <td>3</td>\n",
       "      <td>98</td>\n",
       "      <td>-0.104162</td>\n",
       "      <td>-0.109996</td>\n",
       "      <td>0.002469</td>\n",
       "      <td>-0.048264</td>\n",
       "      <td>-0.011479</td>\n",
       "      <td>0.016149</td>\n",
       "    </tr>\n",
       "    <tr>\n",
       "      <th>3</th>\n",
       "      <td>1994</td>\n",
       "      <td>4</td>\n",
       "      <td>99</td>\n",
       "      <td>-0.021474</td>\n",
       "      <td>-0.021708</td>\n",
       "      <td>0.002711</td>\n",
       "      <td>0.006784</td>\n",
       "      <td>-0.009151</td>\n",
       "      <td>0.016975</td>\n",
       "    </tr>\n",
       "    <tr>\n",
       "      <th>4</th>\n",
       "      <td>1994</td>\n",
       "      <td>5</td>\n",
       "      <td>99</td>\n",
       "      <td>-0.051943</td>\n",
       "      <td>-0.053340</td>\n",
       "      <td>0.003150</td>\n",
       "      <td>0.006203</td>\n",
       "      <td>-0.020018</td>\n",
       "      <td>0.004031</td>\n",
       "    </tr>\n",
       "    <tr>\n",
       "      <th>...</th>\n",
       "      <td>...</td>\n",
       "      <td>...</td>\n",
       "      <td>...</td>\n",
       "      <td>...</td>\n",
       "      <td>...</td>\n",
       "      <td>...</td>\n",
       "      <td>...</td>\n",
       "      <td>...</td>\n",
       "      <td>...</td>\n",
       "    </tr>\n",
       "    <tr>\n",
       "      <th>355</th>\n",
       "      <td>2023</td>\n",
       "      <td>8</td>\n",
       "      <td>97</td>\n",
       "      <td>-0.112854</td>\n",
       "      <td>-0.119745</td>\n",
       "      <td>0.004537</td>\n",
       "      <td>-0.025142</td>\n",
       "      <td>-0.042465</td>\n",
       "      <td>-0.002446</td>\n",
       "    </tr>\n",
       "    <tr>\n",
       "      <th>356</th>\n",
       "      <td>2023</td>\n",
       "      <td>9</td>\n",
       "      <td>96</td>\n",
       "      <td>-0.049683</td>\n",
       "      <td>-0.050960</td>\n",
       "      <td>0.004267</td>\n",
       "      <td>-0.051657</td>\n",
       "      <td>-0.024624</td>\n",
       "      <td>0.013942</td>\n",
       "    </tr>\n",
       "    <tr>\n",
       "      <th>357</th>\n",
       "      <td>2023</td>\n",
       "      <td>10</td>\n",
       "      <td>100</td>\n",
       "      <td>-0.063462</td>\n",
       "      <td>-0.065565</td>\n",
       "      <td>0.004715</td>\n",
       "      <td>-0.033582</td>\n",
       "      <td>-0.046801</td>\n",
       "      <td>0.005730</td>\n",
       "    </tr>\n",
       "    <tr>\n",
       "      <th>358</th>\n",
       "      <td>2023</td>\n",
       "      <td>11</td>\n",
       "      <td>99</td>\n",
       "      <td>0.188479</td>\n",
       "      <td>0.172674</td>\n",
       "      <td>0.004424</td>\n",
       "      <td>0.087633</td>\n",
       "      <td>0.007572</td>\n",
       "      <td>-0.006505</td>\n",
       "    </tr>\n",
       "    <tr>\n",
       "      <th>359</th>\n",
       "      <td>2023</td>\n",
       "      <td>12</td>\n",
       "      <td>98</td>\n",
       "      <td>0.113989</td>\n",
       "      <td>0.107948</td>\n",
       "      <td>0.004266</td>\n",
       "      <td>0.049202</td>\n",
       "      <td>0.071487</td>\n",
       "      <td>0.026800</td>\n",
       "    </tr>\n",
       "  </tbody>\n",
       "</table>\n",
       "<p>360 rows × 9 columns</p>\n",
       "</div>"
      ],
      "text/plain": [
       "     year  month  nstocks    ret_vw  logret_vw        rf       MKT       SMB  \\\n",
       "0    1994      1       99  0.027702   0.027325  0.002503  0.028956  0.003051   \n",
       "1    1994      2       99 -0.023840  -0.024129  0.002120 -0.026327  0.027511   \n",
       "2    1994      3       98 -0.104162  -0.109996  0.002469 -0.048264 -0.011479   \n",
       "3    1994      4       99 -0.021474  -0.021708  0.002711  0.006784 -0.009151   \n",
       "4    1994      5       99 -0.051943  -0.053340  0.003150  0.006203 -0.020018   \n",
       "..    ...    ...      ...       ...        ...       ...       ...       ...   \n",
       "355  2023      8       97 -0.112854  -0.119745  0.004537 -0.025142 -0.042465   \n",
       "356  2023      9       96 -0.049683  -0.050960  0.004267 -0.051657 -0.024624   \n",
       "357  2023     10      100 -0.063462  -0.065565  0.004715 -0.033582 -0.046801   \n",
       "358  2023     11       99  0.188479   0.172674  0.004424  0.087633  0.007572   \n",
       "359  2023     12       98  0.113989   0.107948  0.004266  0.049202  0.071487   \n",
       "\n",
       "          HML  \n",
       "0    0.008388  \n",
       "1   -0.015719  \n",
       "2    0.016149  \n",
       "3    0.016975  \n",
       "4    0.004031  \n",
       "..        ...  \n",
       "355 -0.002446  \n",
       "356  0.013942  \n",
       "357  0.005730  \n",
       "358 -0.006505  \n",
       "359  0.026800  \n",
       "\n",
       "[360 rows x 9 columns]"
      ]
     },
     "execution_count": 42,
     "metadata": {},
     "output_type": "execute_result"
    }
   ],
   "source": [
    "# Read the FF3 factors from the lab session\n",
    "FF3 = pd.read_csv('FF3_lab.csv')\n",
    "\n",
    "# Merge\n",
    "reg_fund = pd.merge(ret_fund, FF3, on=['year','month'])\n",
    "\n",
    "reg_fund"
   ]
  },
  {
   "cell_type": "code",
   "execution_count": 43,
   "id": "2094cdc6",
   "metadata": {},
   "outputs": [],
   "source": [
    "# Excess fund return\n",
    "reg_fund['exret_vw'] = reg_fund.ret_vw-reg_fund.rf"
   ]
  },
  {
   "cell_type": "code",
   "execution_count": 44,
   "id": "0747633d",
   "metadata": {},
   "outputs": [
    {
     "name": "stdout",
     "output_type": "stream",
     "text": [
      "                            OLS Regression Results                            \n",
      "==============================================================================\n",
      "Dep. Variable:               exret_vw   R-squared:                       0.592\n",
      "Model:                            OLS   Adj. R-squared:                  0.591\n",
      "Method:                 Least Squares   F-statistic:                     519.4\n",
      "Date:                Wed, 24 Apr 2024   Prob (F-statistic):           1.13e-71\n",
      "Time:                        11:41:31   Log-Likelihood:                 378.05\n",
      "No. Observations:                 360   AIC:                            -752.1\n",
      "Df Residuals:                     358   BIC:                            -744.3\n",
      "Df Model:                           1                                         \n",
      "Covariance Type:            nonrobust                                         \n",
      "==============================================================================\n",
      "                 coef    std err          t      P>|t|      [0.025      0.975]\n",
      "------------------------------------------------------------------------------\n",
      "Intercept     -0.0078      0.005     -1.724      0.086      -0.017       0.001\n",
      "MKT            2.2585      0.099     22.790      0.000       2.064       2.453\n",
      "==============================================================================\n",
      "Omnibus:                      122.827   Durbin-Watson:                   1.933\n",
      "Prob(Omnibus):                  0.000   Jarque-Bera (JB):              554.696\n",
      "Skew:                           1.399   Prob(JB):                    3.54e-121\n",
      "Kurtosis:                       8.399   Cond. No.                         22.1\n",
      "==============================================================================\n",
      "\n",
      "Notes:\n",
      "[1] Standard Errors assume that the covariance matrix of the errors is correctly specified.\n"
     ]
    }
   ],
   "source": [
    "# Linear regression from statsmodels\n",
    "import statsmodels.formula.api as sm\n",
    "\n",
    "# CAPM\n",
    "ols_capm = sm.ols('exret_vw ~ MKT', data=reg_fund)\n",
    "est_capm = ols_capm.fit()\n",
    "print(est_capm.summary())"
   ]
  },
  {
   "cell_type": "code",
   "execution_count": 45,
   "id": "441ef33c",
   "metadata": {},
   "outputs": [
    {
     "name": "stdout",
     "output_type": "stream",
     "text": [
      "                            OLS Regression Results                            \n",
      "==============================================================================\n",
      "Dep. Variable:               exret_vw   R-squared:                       0.668\n",
      "Model:                            OLS   Adj. R-squared:                  0.666\n",
      "Method:                 Least Squares   F-statistic:                     239.3\n",
      "Date:                Wed, 24 Apr 2024   Prob (F-statistic):           5.54e-85\n",
      "Time:                        11:41:31   Log-Likelihood:                 415.42\n",
      "No. Observations:                 360   AIC:                            -822.8\n",
      "Df Residuals:                     356   BIC:                            -807.3\n",
      "Df Model:                           3                                         \n",
      "Covariance Type:            nonrobust                                         \n",
      "==============================================================================\n",
      "                 coef    std err          t      P>|t|      [0.025      0.975]\n",
      "------------------------------------------------------------------------------\n",
      "Intercept     -0.0067      0.004     -1.643      0.101      -0.015       0.001\n",
      "MKT            2.0158      0.094     21.558      0.000       1.832       2.200\n",
      "SMB            1.0481      0.131      7.987      0.000       0.790       1.306\n",
      "HML           -0.2994      0.123     -2.437      0.015      -0.541      -0.058\n",
      "==============================================================================\n",
      "Omnibus:                      148.379   Durbin-Watson:                   1.766\n",
      "Prob(Omnibus):                  0.000   Jarque-Bera (JB):              833.635\n",
      "Skew:                           1.650   Prob(JB):                    9.52e-182\n",
      "Kurtosis:                       9.685   Cond. No.                         35.1\n",
      "==============================================================================\n",
      "\n",
      "Notes:\n",
      "[1] Standard Errors assume that the covariance matrix of the errors is correctly specified.\n"
     ]
    }
   ],
   "source": [
    "# FF3\n",
    "ols_ff3 = sm.ols('exret_vw ~ MKT+SMB+HML', data=reg_fund)\n",
    "est_ff3 = ols_ff3.fit()\n",
    "print(est_ff3.summary())"
   ]
  },
  {
   "cell_type": "code",
   "execution_count": 47,
   "id": "237c4a3d",
   "metadata": {
    "scrolled": true
   },
   "outputs": [
    {
     "data": {
      "text/html": [
       "<div>\n",
       "<style scoped>\n",
       "    .dataframe tbody tr th:only-of-type {\n",
       "        vertical-align: middle;\n",
       "    }\n",
       "\n",
       "    .dataframe tbody tr th {\n",
       "        vertical-align: top;\n",
       "    }\n",
       "\n",
       "    .dataframe thead th {\n",
       "        text-align: right;\n",
       "    }\n",
       "</style>\n",
       "<table border=\"1\" class=\"dataframe\">\n",
       "  <thead>\n",
       "    <tr style=\"text-align: right;\">\n",
       "      <th></th>\n",
       "      <th>permno</th>\n",
       "      <th>MC</th>\n",
       "      <th>rank_beta</th>\n",
       "      <th>wt</th>\n",
       "      <th>ticker</th>\n",
       "    </tr>\n",
       "  </thead>\n",
       "  <tbody>\n",
       "    <tr>\n",
       "      <th>0</th>\n",
       "      <td>87137</td>\n",
       "      <td>29.821850</td>\n",
       "      <td>64</td>\n",
       "      <td>0.160081</td>\n",
       "      <td>DVN</td>\n",
       "    </tr>\n",
       "    <tr>\n",
       "      <th>1</th>\n",
       "      <td>14882</td>\n",
       "      <td>19.994843</td>\n",
       "      <td>73</td>\n",
       "      <td>0.107331</td>\n",
       "      <td>CZR</td>\n",
       "    </tr>\n",
       "    <tr>\n",
       "      <th>2</th>\n",
       "      <td>91983</td>\n",
       "      <td>16.363406</td>\n",
       "      <td>59</td>\n",
       "      <td>0.087837</td>\n",
       "      <td>CLR</td>\n",
       "    </tr>\n",
       "    <tr>\n",
       "      <th>3</th>\n",
       "      <td>15069</td>\n",
       "      <td>12.783578</td>\n",
       "      <td>67</td>\n",
       "      <td>0.068621</td>\n",
       "      <td>MRO</td>\n",
       "    </tr>\n",
       "    <tr>\n",
       "      <th>4</th>\n",
       "      <td>12476</td>\n",
       "      <td>11.961497</td>\n",
       "      <td>76</td>\n",
       "      <td>0.064208</td>\n",
       "      <td>TRGP</td>\n",
       "    </tr>\n",
       "    <tr>\n",
       "      <th>5</th>\n",
       "      <td>14179</td>\n",
       "      <td>5.493775</td>\n",
       "      <td>16</td>\n",
       "      <td>0.029490</td>\n",
       "      <td>AR</td>\n",
       "    </tr>\n",
       "    <tr>\n",
       "      <th>6</th>\n",
       "      <td>15795</td>\n",
       "      <td>4.771276</td>\n",
       "      <td>74</td>\n",
       "      <td>0.025612</td>\n",
       "      <td>SGRY</td>\n",
       "    </tr>\n",
       "    <tr>\n",
       "      <th>7</th>\n",
       "      <td>62341</td>\n",
       "      <td>4.703026</td>\n",
       "      <td>46</td>\n",
       "      <td>0.025245</td>\n",
       "      <td>PDCE</td>\n",
       "    </tr>\n",
       "    <tr>\n",
       "      <th>8</th>\n",
       "      <td>16738</td>\n",
       "      <td>4.622239</td>\n",
       "      <td>69</td>\n",
       "      <td>0.024812</td>\n",
       "      <td>AM</td>\n",
       "    </tr>\n",
       "    <tr>\n",
       "      <th>9</th>\n",
       "      <td>13244</td>\n",
       "      <td>4.332045</td>\n",
       "      <td>17</td>\n",
       "      <td>0.023254</td>\n",
       "      <td>MTDR</td>\n",
       "    </tr>\n",
       "  </tbody>\n",
       "</table>\n",
       "</div>"
      ],
      "text/plain": [
       "   permno         MC  rank_beta        wt ticker\n",
       "0   87137  29.821850         64  0.160081    DVN\n",
       "1   14882  19.994843         73  0.107331    CZR\n",
       "2   91983  16.363406         59  0.087837    CLR\n",
       "3   15069  12.783578         67  0.068621    MRO\n",
       "4   12476  11.961497         76  0.064208   TRGP\n",
       "5   14179   5.493775         16  0.029490     AR\n",
       "6   15795   4.771276         74  0.025612   SGRY\n",
       "7   62341   4.703026         46  0.025245   PDCE\n",
       "8   16738   4.622239         69  0.024812     AM\n",
       "9   13244   4.332045         17  0.023254   MTDR"
      ]
     },
     "execution_count": 47,
     "metadata": {},
     "output_type": "execute_result"
    }
   ],
   "source": [
    "# End-of-2021 portfolio weights\n",
    "top = signal2[['permno','MC','rank_beta']][(signal2.ryear==2021) & (signal2.rquarter==4)]\n",
    "\n",
    "# VW\n",
    "top['wt'] = top.MC/top.MC.sum()\n",
    "\n",
    "# Merge with stock ticker\n",
    "ticker = msf[(msf.year==2021) & (msf.month==12)][['permno','ticker']]\n",
    "top = pd.merge(top, ticker, on=['permno'])\n",
    "\n",
    "# Sort stocks from highest to lowest portfolio weight\n",
    "top = top.sort_values('wt', ascending=False).reset_index(drop=True)\n",
    "top.head(10)"
   ]
  }
 ],
 "metadata": {
  "kernelspec": {
   "display_name": "Python 3 (ipykernel)",
   "language": "python",
   "name": "python3"
  },
  "language_info": {
   "codemirror_mode": {
    "name": "ipython",
    "version": 3
   },
   "file_extension": ".py",
   "mimetype": "text/x-python",
   "name": "python",
   "nbconvert_exporter": "python",
   "pygments_lexer": "ipython3",
   "version": "3.11.5"
  }
 },
 "nbformat": 4,
 "nbformat_minor": 5
}
